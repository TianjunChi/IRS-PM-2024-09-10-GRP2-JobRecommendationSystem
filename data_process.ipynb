{
 "cells": [
  {
   "cell_type": "markdown",
   "metadata": {},
   "source": [
    "设数据集包含以下字段：\n",
    "\n",
    "job_id：工作岗位的唯一标识符\n",
    "job_title：工作岗位标题\n",
    "company：公司名称\n",
    "location：工作地点\n",
    "提取工作岗位实体：\n",
    "\n",
    "读取数据：\n",
    "\n",
    "使用 Pandas 或其他工具读取工作岗位数据集。\n",
    "\n",
    "\n"
   ]
  },
  {
   "cell_type": "code",
   "execution_count": null,
   "metadata": {},
   "outputs": [],
   "source": [
    "import pandas as pd\n",
    "\n",
    "job_df = pd.read_csv('job_positions.csv')"
   ]
  },
  {
   "cell_type": "markdown",
   "metadata": {},
   "source": [
    "提取实体\n",
    "\n",
    "根据需要提取的实体。比如，你可能对 job_title、company 和 location 感兴趣。"
   ]
  },
  {
   "cell_type": "code",
   "execution_count": null,
   "metadata": {},
   "outputs": [],
   "source": [
    "job_titles = job_df['job_title'].unique()\n",
    "companies = job_df['company'].unique()\n",
    "locations = job_df['location'].unique()\n"
   ]
  },
  {
   "cell_type": "markdown",
   "metadata": {},
   "source": [
    "处理实体：\n",
    "\n",
    "对提取的实体进行去重、清洗等处理"
   ]
  },
  {
   "cell_type": "code",
   "execution_count": null,
   "metadata": {},
   "outputs": [],
   "source": [
    "job_titles = list(set(job_titles))\n",
    "companies = list(set(companies))\n",
    "locations = list(set(locations))\n"
   ]
  },
  {
   "cell_type": "markdown",
   "metadata": {},
   "source": [
    "应聘者数据集\n",
    "假设数据集包含以下字段：\n",
    "\n",
    "applicant_id：应聘者的唯一标识符\n",
    "name：应聘者姓名\n",
    "email：应聘者电子邮件\n",
    "skills：应聘者技能（可能是一个以逗号分隔的字符串）"
   ]
  },
  {
   "cell_type": "markdown",
   "metadata": {},
   "source": [
    "提取应聘者实体：\n",
    "\n",
    "读取数据：\n",
    "\n",
    "使用 Pandas 或其他工具读取应聘者数据集"
   ]
  },
  {
   "cell_type": "code",
   "execution_count": null,
   "metadata": {},
   "outputs": [],
   "source": [
    "applicant_df = pd.read_csv('applicants.csv')\n"
   ]
  },
  {
   "cell_type": "markdown",
   "metadata": {},
   "source": [
    "提取实体：\n",
    "\n",
    "根据需要提取的实体。比如，你可能对 name 和 skills 感兴趣。"
   ]
  },
  {
   "cell_type": "code",
   "execution_count": null,
   "metadata": {},
   "outputs": [],
   "source": [
    "names = applicant_df['name'].unique()\n",
    "skills = applicant_df['skills'].unique()\n"
   ]
  },
  {
   "cell_type": "markdown",
   "metadata": {},
   "source": [
    "处理实体：\n",
    "\n",
    "对提取的实体进行去重、清洗等处理。对于技能字段，可能需要进一步处理"
   ]
  },
  {
   "cell_type": "code",
   "execution_count": null,
   "metadata": {},
   "outputs": [],
   "source": [
    "names = list(set(names))\n",
    "skills = set(skill for sublist in applicant_df['skills'].str.split(',') for skill in sublist)\n"
   ]
  },
  {
   "cell_type": "markdown",
   "metadata": {},
   "source": [
    "整合和分析\n",
    "整合实体：\n",
    "\n",
    "如果需要将工作岗位和应聘者的实体整合在一起，可以将两个实体列表合并"
   ]
  },
  {
   "cell_type": "code",
   "execution_count": null,
   "metadata": {},
   "outputs": [],
   "source": [
    "all_entities = list(set(job_titles + companies + locations + names + list(skills)))\n"
   ]
  },
  {
   "cell_type": "markdown",
   "metadata": {},
   "source": [
    "进一步分析：\n",
    "\n",
    "进行进一步的分析，如实体之间的匹配、数据可视化等。"
   ]
  },
  {
   "cell_type": "markdown",
   "metadata": {},
   "source": [
    "完整的示例代码"
   ]
  },
  {
   "cell_type": "code",
   "execution_count": null,
   "metadata": {},
   "outputs": [],
   "source": [
    "import pandas as pd\n",
    "\n",
    "# 读取工作岗位数据集\n",
    "job_df = pd.read_csv('job_positions.csv')\n",
    "\n",
    "# 提取工作岗位实体\n",
    "job_titles = job_df['job_title'].unique()\n",
    "companies = job_df['company'].unique()\n",
    "locations = job_df['location'].unique()\n",
    "\n",
    "# 清洗和去重\n",
    "job_titles = list(set(job_titles))\n",
    "companies = list(set(companies))\n",
    "locations = list(set(locations))\n",
    "\n",
    "# 读取应聘者数据集\n",
    "applicant_df = pd.read_csv('applicants.csv')\n",
    "\n",
    "# 提取应聘者实体\n",
    "names = applicant_df['name'].unique()\n",
    "skills = applicant_df['skills'].str.split(',', expand=True).stack().unique()\n",
    "\n",
    "# 清洗和去重\n",
    "names = list(set(names))\n",
    "skills = set(skill.strip() for skill in skills)\n",
    "\n",
    "# 整合所有实体\n",
    "all_entities = list(set(job_titles + companies + locations + names + list(skills)))\n",
    "\n",
    "# 输出结果\n",
    "print(\"Job Titles:\", job_titles)\n",
    "print(\"Companies:\", companies)\n",
    "print(\"Locations:\", locations)\n",
    "print(\"Names:\", names)\n",
    "print(\"Skills:\", skills)\n",
    "print(\"All Entities:\", all_entities)\n"
   ]
  },
  {
   "cell_type": "markdown",
   "metadata": {},
   "source": [
    "从工作岗位数据集和应聘者数据集中提取关系（relations）通常涉及识别和分析不同实体之间的关系。关系可以是实体之间的直接联系（如应聘者申请了某个工作岗位），也可以是通过共同属性或交互得出的间接联系。以下是如何从这些数据集中提取和定义关系的步骤："
   ]
  },
  {
   "cell_type": "markdown",
   "metadata": {},
   "source": [
    " 定义关系\n",
    "首先，明确你希望识别和提取的关系类型。例如：\n",
    "\n",
    "应聘者与工作岗位：应聘者申请了某个工作岗位。\n",
    "工作岗位与公司：工作岗位属于某个公司。\n",
    "应聘者与技能：应聘者具备某些技能。\n",
    "2. 从工作岗位数据集中提取关系\n",
    "假设数据集包含以下字段：\n",
    "\n",
    "job_id：工作岗位的唯一标识符\n",
    "job_title：工作岗位标题\n",
    "company：公司名称\n",
    "location：工作地点\n"
   ]
  },
  {
   "cell_type": "markdown",
   "metadata": {},
   "source": [
    "提取关系：\n",
    "\n",
    "工作岗位与公司：\n",
    "\n",
    "每个工作岗位都关联到一个公司。"
   ]
  },
  {
   "cell_type": "code",
   "execution_count": null,
   "metadata": {},
   "outputs": [],
   "source": [
    "job_company_relationships = job_df[['job_id', 'company']].drop_duplicates()\n"
   ]
  },
  {
   "cell_type": "markdown",
   "metadata": {},
   "source": [
    "工作岗位与地点：\n",
    "\n",
    "每个工作岗位都关联到一个地点。"
   ]
  },
  {
   "cell_type": "code",
   "execution_count": null,
   "metadata": {},
   "outputs": [],
   "source": [
    "job_location_relationships = job_df[['job_id', 'location']].drop_duplicates()\n"
   ]
  },
  {
   "cell_type": "markdown",
   "metadata": {},
   "source": [
    "从应聘者数据集中提取关系\n",
    "假设数据集包含以下字段：\n",
    "\n",
    "applicant_id：应聘者的唯一标识符\n",
    "name：应聘者姓名\n",
    "email：应聘者电子邮件\n",
    "skills：应聘者技能（可能是一个以逗号分隔的字符串"
   ]
  },
  {
   "cell_type": "markdown",
   "metadata": {},
   "source": [
    "提取关系：\n",
    "\n",
    "应聘者与技能：\n",
    "\n",
    "每个应聘者具备某些技能。将技能字段分开并与应聘者关联。"
   ]
  },
  {
   "cell_type": "code",
   "execution_count": null,
   "metadata": {},
   "outputs": [],
   "source": [
    "# 将技能列拆分成多个行\n",
    "applicant_skills_df = applicant_df[['applicant_id', 'skills']]\n",
    "applicant_skills_df = applicant_skills_df.assign(skills=applicant_skills_df['skills'].str.split(',')).explode('skills')\n",
    "applicant_skills_df['skills'] = applicant_skills_df['skills'].str.strip()\n"
   ]
  },
  {
   "cell_type": "markdown",
   "metadata": {},
   "source": [
    "应聘者与工作岗位的关系\n",
    "为了建立应聘者与工作岗位的关系，你需要一个包含申请记录的数据集。假设你有一个数据集，记录了应聘者申请的工作岗位：\n",
    "\n",
    "假设数据集包含以下字段：\n",
    "\n",
    "applicant_id：应聘者的唯一标识符\n",
    "job_id：工作岗位的唯一标识符\n",
    "application_date：申请日期\n",
    "提取应聘者与工作岗位的关系："
   ]
  },
  {
   "cell_type": "code",
   "execution_count": null,
   "metadata": {},
   "outputs": [],
   "source": [
    "application_df = pd.read_csv('applications.csv')\n",
    "applicant_job_relationships = application_df[['applicant_id', 'job_id', 'application_date']].drop_duplicates()\n"
   ]
  },
  {
   "cell_type": "markdown",
   "metadata": {},
   "source": [
    "整合关系\n",
    "整合从不同数据集中提取的关系："
   ]
  },
  {
   "cell_type": "code",
   "execution_count": null,
   "metadata": {},
   "outputs": [],
   "source": [
    "# 工作岗位与公司关系\n",
    "print(\"Job-Company Relationships:\")\n",
    "print(job_company_relationships)\n",
    "\n",
    "# 工作岗位与地点关系\n",
    "print(\"Job-Location Relationships:\")\n",
    "print(job_location_relationships)\n",
    "\n",
    "# 应聘者与技能关系\n",
    "print(\"Applicant-Skill Relationships:\")\n",
    "print(applicant_skills_df)\n",
    "\n",
    "# 应聘者与工作岗位关系\n",
    "print(\"Applicant-Job Relationships:\")\n",
    "print(applicant_job_relationships)\n"
   ]
  },
  {
   "cell_type": "markdown",
   "metadata": {},
   "source": [
    "从工作岗位数据集和应聘者数据集中提取关系包括以下步骤：\n",
    "\n",
    "定义关系类型：明确要提取的关系。\n",
    "提取关系：从各个数据集中提取所需的关系。\n",
    "整合关系：将不同来源的关系整合在一起进行分析"
   ]
  },
  {
   "cell_type": "markdown",
   "metadata": {},
   "source": [
    "## 标识唯一job的方法：给每个job一个唯一的id"
   ]
  }
 ],
 "metadata": {
  "language_info": {
   "name": "python"
  }
 },
 "nbformat": 4,
 "nbformat_minor": 2
}
