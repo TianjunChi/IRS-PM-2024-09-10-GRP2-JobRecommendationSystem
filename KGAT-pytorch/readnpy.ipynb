{
 "cells": [
  {
   "cell_type": "code",
   "execution_count": 2,
   "metadata": {},
   "outputs": [
    {
     "name": "stdout",
     "output_type": "stream",
     "text": [
      "[[       -inf        -inf        -inf ...  0.01520166  0.32587472\n",
      "   0.10274912]\n",
      " [ 5.2613287   0.05197871  2.0890281  ...  1.2916763  -0.01135076\n",
      "   0.46103567]\n",
      " [ 0.64497226  2.548879    3.511375   ... -0.19401713 -0.699405\n",
      "   0.4544437 ]\n",
      " ...\n",
      " [ 1.0230085   1.6873201   0.7659099  ...  0.46680862  0.6147556\n",
      "  -0.27280056]\n",
      " [ 2.0321572   0.6238936   3.4196339  ...  0.5510905   0.6924623\n",
      "   1.250209  ]\n",
      " [ 1.5537517   1.2808977   1.820602   ...  0.08995909 -0.4857951\n",
      "  -0.3518509 ]]\n"
     ]
    }
   ],
   "source": [
    "import numpy as np\n",
    "data = np.load('/Users/lzm1645/Library/CloudStorage/OneDrive-NationalUniversityofSingapore/code/NUS-ISS/Project1/IRS-PM-2024-09-10-GRP8-JobRecommendationSystem/KGAT-pytorch/trained_model/KGAT/last-fm/embed-dim64_relation-dim64_random-walk_bi-interaction_64-32-16_lr0.0001_pretrain1/cf_scores.npy')\n",
    "print(data)"
   ]
  }
 ],
 "metadata": {
  "kernelspec": {
   "display_name": "base",
   "language": "python",
   "name": "python3"
  },
  "language_info": {
   "codemirror_mode": {
    "name": "ipython",
    "version": 3
   },
   "file_extension": ".py",
   "mimetype": "text/x-python",
   "name": "python",
   "nbconvert_exporter": "python",
   "pygments_lexer": "ipython3",
   "version": "3.11.8"
  }
 },
 "nbformat": 4,
 "nbformat_minor": 2
}
